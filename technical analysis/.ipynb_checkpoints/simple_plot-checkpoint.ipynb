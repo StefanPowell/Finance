{
 "cells": [
  {
   "cell_type": "markdown",
   "metadata": {},
   "source": [
    "# Plotting Graph using Data Points"
   ]
  },
  {
   "cell_type": "code",
   "execution_count": 32,
   "metadata": {},
   "outputs": [],
   "source": [
    "%matplotlib inline\n",
    "import matplotlib.pyplot as plt\n",
    "import pandas as pd \n",
    "import numpy as np"
   ]
  },
  {
   "cell_type": "code",
   "execution_count": 23,
   "metadata": {},
   "outputs": [],
   "source": [
    "data = pd.read_csv(\"BRK-A.csv\") "
   ]
  },
  {
   "cell_type": "markdown",
   "metadata": {},
   "source": [
    "First 10 data points in csv file shown below"
   ]
  },
  {
   "cell_type": "code",
   "execution_count": 28,
   "metadata": {},
   "outputs": [
    {
     "data": {
      "text/html": [
       "<div>\n",
       "<style scoped>\n",
       "    .dataframe tbody tr th:only-of-type {\n",
       "        vertical-align: middle;\n",
       "    }\n",
       "\n",
       "    .dataframe tbody tr th {\n",
       "        vertical-align: top;\n",
       "    }\n",
       "\n",
       "    .dataframe thead th {\n",
       "        text-align: right;\n",
       "    }\n",
       "</style>\n",
       "<table border=\"1\" class=\"dataframe\">\n",
       "  <thead>\n",
       "    <tr style=\"text-align: right;\">\n",
       "      <th></th>\n",
       "      <th>Date</th>\n",
       "      <th>Open</th>\n",
       "      <th>High</th>\n",
       "      <th>Low</th>\n",
       "      <th>Close</th>\n",
       "      <th>Adj Close</th>\n",
       "      <th>Volume</th>\n",
       "    </tr>\n",
       "  </thead>\n",
       "  <tbody>\n",
       "    <tr>\n",
       "      <th>0</th>\n",
       "      <td>2018-04-27</td>\n",
       "      <td>295850.0</td>\n",
       "      <td>296455.0</td>\n",
       "      <td>293980.0</td>\n",
       "      <td>295995.0</td>\n",
       "      <td>295995.0</td>\n",
       "      <td>100</td>\n",
       "    </tr>\n",
       "    <tr>\n",
       "      <th>1</th>\n",
       "      <td>2018-04-30</td>\n",
       "      <td>296900.0</td>\n",
       "      <td>297240.0</td>\n",
       "      <td>290650.0</td>\n",
       "      <td>290650.0</td>\n",
       "      <td>290650.0</td>\n",
       "      <td>300</td>\n",
       "    </tr>\n",
       "    <tr>\n",
       "      <th>2</th>\n",
       "      <td>2018-05-01</td>\n",
       "      <td>291150.0</td>\n",
       "      <td>292730.0</td>\n",
       "      <td>289170.0</td>\n",
       "      <td>292730.0</td>\n",
       "      <td>292730.0</td>\n",
       "      <td>400</td>\n",
       "    </tr>\n",
       "    <tr>\n",
       "      <th>3</th>\n",
       "      <td>2018-05-02</td>\n",
       "      <td>291850.0</td>\n",
       "      <td>292400.0</td>\n",
       "      <td>289750.0</td>\n",
       "      <td>290450.0</td>\n",
       "      <td>290450.0</td>\n",
       "      <td>300</td>\n",
       "    </tr>\n",
       "    <tr>\n",
       "      <th>4</th>\n",
       "      <td>2018-05-03</td>\n",
       "      <td>289171.0</td>\n",
       "      <td>289171.0</td>\n",
       "      <td>284850.0</td>\n",
       "      <td>287051.0</td>\n",
       "      <td>287051.0</td>\n",
       "      <td>500</td>\n",
       "    </tr>\n",
       "    <tr>\n",
       "      <th>5</th>\n",
       "      <td>2018-05-04</td>\n",
       "      <td>288200.0</td>\n",
       "      <td>294349.0</td>\n",
       "      <td>280428.0</td>\n",
       "      <td>292600.0</td>\n",
       "      <td>292600.0</td>\n",
       "      <td>700</td>\n",
       "    </tr>\n",
       "    <tr>\n",
       "      <th>6</th>\n",
       "      <td>2018-05-07</td>\n",
       "      <td>294720.0</td>\n",
       "      <td>297500.0</td>\n",
       "      <td>293700.0</td>\n",
       "      <td>295600.0</td>\n",
       "      <td>295600.0</td>\n",
       "      <td>300</td>\n",
       "    </tr>\n",
       "    <tr>\n",
       "      <th>7</th>\n",
       "      <td>2018-05-08</td>\n",
       "      <td>295560.0</td>\n",
       "      <td>295770.0</td>\n",
       "      <td>292240.0</td>\n",
       "      <td>295700.0</td>\n",
       "      <td>295700.0</td>\n",
       "      <td>300</td>\n",
       "    </tr>\n",
       "    <tr>\n",
       "      <th>8</th>\n",
       "      <td>2018-05-09</td>\n",
       "      <td>295000.0</td>\n",
       "      <td>300000.0</td>\n",
       "      <td>294950.0</td>\n",
       "      <td>299991.0</td>\n",
       "      <td>299991.0</td>\n",
       "      <td>200</td>\n",
       "    </tr>\n",
       "    <tr>\n",
       "      <th>9</th>\n",
       "      <td>2018-05-10</td>\n",
       "      <td>300140.0</td>\n",
       "      <td>301630.0</td>\n",
       "      <td>298635.0</td>\n",
       "      <td>301630.0</td>\n",
       "      <td>301630.0</td>\n",
       "      <td>300</td>\n",
       "    </tr>\n",
       "  </tbody>\n",
       "</table>\n",
       "</div>"
      ],
      "text/plain": [
       "         Date      Open      High       Low     Close  Adj Close  Volume\n",
       "0  2018-04-27  295850.0  296455.0  293980.0  295995.0   295995.0     100\n",
       "1  2018-04-30  296900.0  297240.0  290650.0  290650.0   290650.0     300\n",
       "2  2018-05-01  291150.0  292730.0  289170.0  292730.0   292730.0     400\n",
       "3  2018-05-02  291850.0  292400.0  289750.0  290450.0   290450.0     300\n",
       "4  2018-05-03  289171.0  289171.0  284850.0  287051.0   287051.0     500\n",
       "5  2018-05-04  288200.0  294349.0  280428.0  292600.0   292600.0     700\n",
       "6  2018-05-07  294720.0  297500.0  293700.0  295600.0   295600.0     300\n",
       "7  2018-05-08  295560.0  295770.0  292240.0  295700.0   295700.0     300\n",
       "8  2018-05-09  295000.0  300000.0  294950.0  299991.0   299991.0     200\n",
       "9  2018-05-10  300140.0  301630.0  298635.0  301630.0   301630.0     300"
      ]
     },
     "execution_count": 28,
     "metadata": {},
     "output_type": "execute_result"
    }
   ],
   "source": [
    "data.head(10)"
   ]
  },
  {
   "cell_type": "markdown",
   "metadata": {},
   "source": [
    "Retrieve Closing Data Only"
   ]
  },
  {
   "cell_type": "code",
   "execution_count": 30,
   "metadata": {},
   "outputs": [
    {
     "data": {
      "text/plain": [
       "0    2018-04-27\n",
       "1    2018-04-30\n",
       "2    2018-05-01\n",
       "3    2018-05-02\n",
       "4    2018-05-03\n",
       "5    2018-05-04\n",
       "6    2018-05-07\n",
       "7    2018-05-08\n",
       "8    2018-05-09\n",
       "9    2018-05-10\n",
       "Name: Date, dtype: object"
      ]
     },
     "execution_count": 30,
     "metadata": {},
     "output_type": "execute_result"
    }
   ],
   "source": [
    "data.head(10).Date"
   ]
  },
  {
   "cell_type": "code",
   "execution_count": 35,
   "metadata": {},
   "outputs": [
    {
     "data": {
      "text/plain": [
       "0    295995.0\n",
       "1    290650.0\n",
       "2    292730.0\n",
       "3    290450.0\n",
       "4    287051.0\n",
       "5    292600.0\n",
       "6    295600.0\n",
       "7    295700.0\n",
       "8    299991.0\n",
       "9    301630.0\n",
       "Name: Close, dtype: float64"
      ]
     },
     "execution_count": 35,
     "metadata": {},
     "output_type": "execute_result"
    }
   ],
   "source": [
    "data.head(10).Close"
   ]
  },
  {
   "cell_type": "code",
   "execution_count": 45,
   "metadata": {},
   "outputs": [
    {
     "data": {
      "image/png": "[encoded data removed]",
      "text/plain": [
       "<Figure size 432x288 with 1 Axes>"
      ]
     },
     "metadata": {},
     "output_type": "display_data"
    }
   ],
   "source": [
    "t = data.head(5).Date\n",
    "s = data.head(5).Close\n",
    "fig, ax = plt.subplots()\n",
    "ax.plot(t, s)\n",
    "ax.set(xlabel='Date', ylabel='Closing Price', title='Partial Graph')\n",
    "ax.grid()\n",
    "plt.show()"
   ]
  },
  {
   "cell_type": "code",
   "execution_count": null,
   "metadata": {},
   "outputs": [],
   "source": []
  }
 ],
 "metadata": {
  "kernelspec": {
   "display_name": "Python 3",
   "language": "python",
   "name": "python3"
  },
  "language_info": {
   "codemirror_mode": {
    "name": "ipython",
    "version": 3
   },
   "file_extension": ".py",
   "mimetype": "text/x-python",
   "name": "python",
   "nbconvert_exporter": "python",
   "pygments_lexer": "ipython3",
   "version": "3.6.5"
  }
 },
 "nbformat": 4,
 "nbformat_minor": 2
}
